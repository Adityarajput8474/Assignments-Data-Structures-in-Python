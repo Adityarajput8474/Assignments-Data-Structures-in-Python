{
 "cells": [
  {
   "cell_type": "code",
   "execution_count": 3,
   "id": "a94095b5-279d-42e7-9be0-b9cf27031bea",
   "metadata": {},
   "outputs": [
    {
     "name": "stdout",
     "output_type": "stream",
     "text": [
      "olleh\n"
     ]
    }
   ],
   "source": [
    "# 1. write a code to reverse a string\n",
    "\n",
    "def reverse_string(s):\n",
    "    return s[::-1]\n",
    "\n",
    "# Example usage\n",
    "input_string = \"hello\"\n",
    "reversed_string = reverse_string(input_string)\n",
    "print(reversed_string)  \n"
   ]
  },
  {
   "cell_type": "code",
   "execution_count": 5,
   "id": "b224ba1c-dec5-48ae-862f-93c78daf0d3a",
   "metadata": {},
   "outputs": [
    {
     "name": "stdout",
     "output_type": "stream",
     "text": [
      "3\n"
     ]
    }
   ],
   "source": [
    "# 2. write a code to count the number of vowels in a string.\n",
    "\n",
    "def count_vowels(s):\n",
    "    vowels = 'aeiouAEIOU'\n",
    "    count = 0\n",
    "    for char in s:\n",
    "        if char in vowels:\n",
    "            count += 1\n",
    "    return count\n",
    "\n",
    "# Example usage\n",
    "input_string = \"Hello, World!\"\n",
    "vowel_count = count_vowels(input_string)\n",
    "print(vowel_count)  \n"
   ]
  },
  {
   "cell_type": "code",
   "execution_count": 7,
   "id": "8c441550-0897-435d-a2a5-fff7926b19e4",
   "metadata": {},
   "outputs": [
    {
     "name": "stdin",
     "output_type": "stream",
     "text": [
      "Enter string Aditya\n"
     ]
    },
    {
     "name": "stdout",
     "output_type": "stream",
     "text": [
      "Aditya is not a Palindrome\n"
     ]
    }
   ],
   "source": [
    "# 3. write a code to check if a given string is a palindrome or not \n",
    "\n",
    "str = input (\"Enter string\")\n",
    "rev_str = \"\"\n",
    "\n",
    "for char in str:\n",
    "    rev_str = char + rev_str\n",
    "\n",
    "if str == rev_str:\n",
    "    print(str, \"is a Palindrome\")\n",
    "else:\n",
    "    print(str, \"is not a Palindrome\")\n"
   ]
  },
  {
   "cell_type": "code",
   "execution_count": 9,
   "id": "cf92767b-b2d2-4d41-82d2-7c3ae30d0299",
   "metadata": {},
   "outputs": [
    {
     "name": "stdout",
     "output_type": "stream",
     "text": [
      "True\n"
     ]
    }
   ],
   "source": [
    "# 4. write a code to check if two given string are anagrams of each other. \n",
    "\n",
    "def are_anagrams(s1, s2):\n",
    "    return sorted(s1.replace(\" \", \"\").lower()) == sorted(s2.replace(\" \", \"\").lower())\n",
    "\n",
    "# Example usage\n",
    "string1 = \"Listen\"\n",
    "string2 = \"Silent\"\n",
    "print(are_anagrams(string1, string2))  \n",
    " \n"
   ]
  },
  {
   "cell_type": "code",
   "execution_count": 10,
   "id": "940ba2b3-0e55-4e2d-ae90-4b276da3998f",
   "metadata": {},
   "outputs": [
    {
     "name": "stdout",
     "output_type": "stream",
     "text": [
      "[10, 21, 36]\n"
     ]
    }
   ],
   "source": [
    "# 5. write a code to find all occurrences of a given substring within another string.  \n",
    "\n",
    "def find_all_occurrences(text, substring):\n",
    "    start = 0\n",
    "    occurrences = []\n",
    "    while True:\n",
    "        start = text.find(substring, start)\n",
    "        if start == -1:\n",
    "            break\n",
    "        occurrences.append(start)\n",
    "        start += len(substring)  # Move past the last found occurrence\n",
    "    return occurrences\n",
    "\n",
    "# Example usage\n",
    "text = \"This is a test. This test is only a test.\"\n",
    "substring = \"test\"\n",
    "print(find_all_occurrences(text, substring))  \n"
   ]
  },
  {
   "cell_type": "code",
   "execution_count": 19,
   "id": "1ac7844d-da59-4da4-bfc4-10ddb06f6481",
   "metadata": {},
   "outputs": [],
   "source": [
    "# 6. write a code to perform basic string compression using the counts of repeated characters .\n",
    "\n",
    "def compression(string): \n",
    "    hash = {}\n",
    "    list = []\n",
    "    count = 0\n",
    "    for i in range(len(string) - 1): \n",
    "        if string[i - 1] != string[i] or i == 0: \n",
    "            if string[i] != string[i + 1] or i == len(string) - 2: \n",
    "                count = count + 1\n",
    "                list.append(str(string[i]))\n",
    "                list.append(str(count))\n",
    "                count = 0\n",
    "            elif string[i] == string[i + 1]: \n",
    "                count = count + 1\n",
    "        elif string[i - 1] == string[i]:\n",
    "            if string[i] != string[i + 1] or i == len(string) - 2: \n",
    "                count = count + 1\n",
    "                list.append(str(string[i]))\n",
    "                list.append(str(count))\n",
    "                count = 0\n",
    "            if string[i] == string[i + 1]: \n",
    "                count = count + 1\n",
    "        print(list)\n",
    "    result =  \"\".join(list)\n",
    "    if len(result) == len(string): \n",
    "        return string\n",
    "    else: \n",
    "        return result\n",
    "\n",
    "\n",
    "\n"
   ]
  },
  {
   "cell_type": "code",
   "execution_count": 20,
   "id": "bf6feaa6-e011-4d50-83f7-be2e4309e734",
   "metadata": {},
   "outputs": [
    {
     "name": "stdout",
     "output_type": "stream",
     "text": [
      "False\n"
     ]
    }
   ],
   "source": [
    "# 7. write a code to determine if a string has all unique characters .\n",
    "\n",
    "def has_all_unique_characters(s):\n",
    "    return len(s) == len(set(s))\n",
    "\n",
    "# Example usage:\n",
    "string = \"hello\"\n",
    "print(has_all_unique_characters(string))  \n"
   ]
  },
  {
   "cell_type": "code",
   "execution_count": 21,
   "id": "340d8971-4db6-49a2-81e1-0383f777130f",
   "metadata": {},
   "outputs": [
    {
     "name": "stdout",
     "output_type": "stream",
     "text": [
      "HELLO, WORLD!\n",
      "hello, world!\n"
     ]
    }
   ],
   "source": [
    "# 8. write a code to convert a given to uppercase or lowercase . \n",
    "\n",
    "def convert_case(s, to_upper=True):\n",
    "    if to_upper:\n",
    "        return s.upper()\n",
    "    else:\n",
    "        return s.lower()\n",
    "\n",
    "# Example usage:\n",
    "string = \"Hello, World!\"\n",
    "\n",
    "uppercase_string = convert_case(string, to_upper=True)\n",
    "print(uppercase_string)  \n",
    "\n",
    "lowercase_string = convert_case(string, to_upper=False)\n",
    "print(lowercase_string)  \n"
   ]
  },
  {
   "cell_type": "code",
   "execution_count": 1,
   "id": "d7d17c67-b727-48fd-8f58-f98008048d7a",
   "metadata": {},
   "outputs": [
    {
     "name": "stdout",
     "output_type": "stream",
     "text": [
      "Number of words: 8\n"
     ]
    }
   ],
   "source": [
    "# 9. write a code to count the number of words in a string . \n",
    "\n",
    "def count_words(text):\n",
    "    # Split the string by whitespace and filter out empty strings\n",
    "    words = text.split()\n",
    "    return len(words)\n",
    "\n",
    "# Example usage\n",
    "input_string = \"Hello, how many words are in this sentence?\"\n",
    "word_count = count_words(input_string)\n",
    "print(f\"Number of words: {word_count}\")\n"
   ]
  },
  {
   "cell_type": "code",
   "execution_count": 2,
   "id": "273ebe6c-7078-418d-b130-9559e7e48eb5",
   "metadata": {},
   "outputs": [
    {
     "name": "stdout",
     "output_type": "stream",
     "text": [
      "Hello, world!\n"
     ]
    }
   ],
   "source": [
    "# 10.  write a code to concatenate two strings without using the + operator . \n",
    "\n",
    "def concatenate_strings(str1, str2):\n",
    "    return ''.join([str1, str2])\n",
    "\n",
    "# Example usage\n",
    "string1 = \"Hello, \"\n",
    "string2 = \"world!\"\n",
    "result = concatenate_strings(string1, string2)\n",
    "print(result)\n"
   ]
  },
  {
   "cell_type": "code",
   "execution_count": 3,
   "id": "53761d75-11ce-4800-be4d-74f508c0b850",
   "metadata": {},
   "outputs": [
    {
     "name": "stdout",
     "output_type": "stream",
     "text": [
      "[1, 3, 4, 5]\n"
     ]
    }
   ],
   "source": [
    "# 11.  write a code to remove all occurrences of a specific element from a list . \n",
    "\n",
    "def remove_occurrences(lst, element):\n",
    "    return [x for x in lst if x != element]\n",
    "\n",
    "# Example usage\n",
    "my_list = [1, 2, 3, 4, 2, 5, 2]\n",
    "element_to_remove = 2\n",
    "result = remove_occurrences(my_list, element_to_remove)\n",
    "print(result)  \n"
   ]
  },
  {
   "cell_type": "code",
   "execution_count": 4,
   "id": "a24ec339-44c8-4018-9df4-464a96967ee4",
   "metadata": {},
   "outputs": [
    {
     "name": "stdout",
     "output_type": "stream",
     "text": [
      "10\n"
     ]
    }
   ],
   "source": [
    "# 12.  Implement a code to find the second largest number in a given list of integers .\n",
    "\n",
    "\n",
    "def find_second_largest(numbers):\n",
    "    if len(numbers) < 2:\n",
    "        raise ValueError(\"List must contain at least two numbers\")\n",
    "    \n",
    "    # Initialize the largest and second largest\n",
    "    largest = second_largest = float('-inf')\n",
    "    \n",
    "    for num in numbers:\n",
    "        if num > largest:\n",
    "            second_largest = largest\n",
    "            largest = num\n",
    "        elif largest > num > second_largest:\n",
    "            second_largest = num\n",
    "    \n",
    "    if second_largest == float('-inf'):\n",
    "        raise ValueError(\"There is no distinct second largest number\")\n",
    "    \n",
    "    return second_largest\n",
    "\n",
    "# Example usage\n",
    "my_list = [10, 5, 20, 20, 4, 5]\n",
    "result = find_second_largest(my_list)\n",
    "print(result)  \n"
   ]
  },
  {
   "cell_type": "code",
   "execution_count": 5,
   "id": "f87a2636-d509-4eca-9414-8f9067ccebf5",
   "metadata": {},
   "outputs": [
    {
     "name": "stdout",
     "output_type": "stream",
     "text": [
      "{1: 1, 2: 2, 3: 3, 4: 1}\n"
     ]
    }
   ],
   "source": [
    "# 13.  create a code to count the occurrences of each element in a list to return a dictionary with elements as keys and their counts as values . \n",
    "\n",
    "\n",
    "def count_occurrences(lst):\n",
    "    counts = {}\n",
    "    for item in lst:\n",
    "        if item in counts:\n",
    "            counts[item] += 1\n",
    "        else:\n",
    "            counts[item] = 1\n",
    "    return counts\n",
    "\n",
    "# Example usage\n",
    "my_list = [1, 2, 2, 3, 3, 3, 4]\n",
    "result = count_occurrences(my_list)\n",
    "print(result)  \n"
   ]
  },
  {
   "cell_type": "code",
   "execution_count": 6,
   "id": "1cd5e5a5-d5ce-4dbd-8ab4-95753836ffa2",
   "metadata": {},
   "outputs": [
    {
     "name": "stdout",
     "output_type": "stream",
     "text": [
      "[5, 4, 3, 2, 1]\n"
     ]
    }
   ],
   "source": [
    "# 14.  write a code to reverse a list in-place without using any built-in reverse functions . \n",
    "\n",
    "def reverse_list_in_place(lst):\n",
    "    left = 0\n",
    "    right = len(lst) - 1\n",
    "    \n",
    "    while left < right:\n",
    "        # Swap elements\n",
    "        lst[left], lst[right] = lst[right], lst[left]\n",
    "        left += 1\n",
    "        right -= 1\n",
    "\n",
    "# Example usage\n",
    "my_list = [1, 2, 3, 4, 5]\n",
    "reverse_list_in_place(my_list)\n",
    "print(my_list)  \n"
   ]
  },
  {
   "cell_type": "code",
   "execution_count": 7,
   "id": "f3b3aa75-0696-47c0-8442-323ebf393b40",
   "metadata": {},
   "outputs": [
    {
     "name": "stdout",
     "output_type": "stream",
     "text": [
      "[1, 2, 3, 4, 5]\n"
     ]
    }
   ],
   "source": [
    "# 15. Implement a code to find and remove duplicates from a list while preserving the original order of elements . \n",
    "\n",
    "def remove_duplicates(lst):\n",
    "    seen = set()\n",
    "    result = []\n",
    "    \n",
    "    for item in lst:\n",
    "        if item not in seen:\n",
    "            seen.add(item)\n",
    "            result.append(item)\n",
    "    \n",
    "    return result\n",
    "\n",
    "# Example usage\n",
    "my_list = [1, 2, 3, 2, 4, 1, 5]\n",
    "result = remove_duplicates(my_list)\n",
    "print(result)  \n"
   ]
  },
  {
   "cell_type": "code",
   "execution_count": 8,
   "id": "c0431386-b6d1-4dd2-8aeb-3c45c66a0dbb",
   "metadata": {},
   "outputs": [
    {
     "name": "stdout",
     "output_type": "stream",
     "text": [
      "True\n",
      "True\n",
      "False\n"
     ]
    }
   ],
   "source": [
    "# 16. Create a code to check if a given list is sorted (either in ascending or descending order) or not . \n",
    "\n",
    "def is_sorted(lst):\n",
    "    if len(lst) < 2:\n",
    "        return True  # A list with 0 or 1 elements is considered sorted\n",
    "\n",
    "    ascending = all(lst[i] <= lst[i + 1] for i in range(len(lst) - 1))\n",
    "    descending = all(lst[i] >= lst[i + 1] for i in range(len(lst) - 1))\n",
    "\n",
    "    return ascending or descending\n",
    "\n",
    "# Example usage\n",
    "my_list = [1, 2, 2, 3, 4]\n",
    "print(is_sorted(my_list))  \n",
    "\n",
    "my_list = [5, 4, 3, 2, 1]\n",
    "print(is_sorted(my_list))  \n",
    "\n",
    "my_list = [1, 3, 2, 4]\n",
    "print(is_sorted(my_list)) \n"
   ]
  },
  {
   "cell_type": "code",
   "execution_count": 9,
   "id": "dc0742ff-1e4e-4332-b68a-276cbd8522c8",
   "metadata": {},
   "outputs": [
    {
     "name": "stdout",
     "output_type": "stream",
     "text": [
      "[1, 2, 3, 4, 5, 6, 7, 8]\n"
     ]
    }
   ],
   "source": [
    "# 17. write a code to merge two sorted lists into a single sorted list . \n",
    "\n",
    "def merge_sorted_lists(list1, list2):\n",
    "    merged_list = []\n",
    "    i, j = 0, 0\n",
    "\n",
    "    while i < len(list1) and j < len(list2):\n",
    "        if list1[i] < list2[j]:\n",
    "            merged_list.append(list1[i])\n",
    "            i += 1\n",
    "        else:\n",
    "            merged_list.append(list2[j])\n",
    "            j += 1\n",
    "\n",
    "    # Append remaining elements\n",
    "    while i < len(list1):\n",
    "        merged_list.append(list1[i])\n",
    "        i += 1\n",
    "\n",
    "    while j < len(list2):\n",
    "        merged_list.append(list2[j])\n",
    "        j += 1\n",
    "\n",
    "    return merged_list\n",
    "\n",
    "# Example usage\n",
    "list1 = [1, 3, 5, 7]\n",
    "list2 = [2, 4, 6, 8]\n",
    "result = merge_sorted_lists(list1, list2)\n",
    "print(result)  \n"
   ]
  },
  {
   "cell_type": "code",
   "execution_count": 10,
   "id": "c8513496-0d44-44d9-9366-432973a0a81f",
   "metadata": {},
   "outputs": [
    {
     "name": "stdout",
     "output_type": "stream",
     "text": [
      "[4, 5]\n"
     ]
    }
   ],
   "source": [
    "# 18. Implement a code to find the intersection of two given lists .\n",
    "\n",
    "def intersection_of_lists(list1, list2):\n",
    "    set1 = set(list1)\n",
    "    set2 = set(list2)\n",
    "    intersection = set1 & set2\n",
    "    return list(intersection)\n",
    "\n",
    "# Example usage\n",
    "list1 = [1, 2, 3, 4, 5]\n",
    "list2 = [4, 5, 6, 7, 8]\n",
    "result = intersection_of_lists(list1, list2)\n",
    "print(result)  \n"
   ]
  },
  {
   "cell_type": "code",
   "execution_count": 11,
   "id": "f8d08893-0c80-4a9d-8d9d-ab9108cfba88",
   "metadata": {},
   "outputs": [
    {
     "name": "stdout",
     "output_type": "stream",
     "text": [
      "[1, 2, 3, 4, 5, 6, 7, 8]\n"
     ]
    }
   ],
   "source": [
    "# 19. Create a code to find union of two lists without duplicates .\n",
    "\n",
    "def union_of_lists(list1, list2):\n",
    "    set1 = set(list1)\n",
    "    set2 = set(list2)\n",
    "    union_set = set1 | set2\n",
    "    return list(union_set)\n",
    "\n",
    "# Example usage\n",
    "list1 = [1, 2, 3, 4, 5]\n",
    "list2 = [4, 5, 6, 7, 8]\n",
    "result = union_of_lists(list1, list2)\n",
    "print(result)  \n"
   ]
  },
  {
   "cell_type": "code",
   "execution_count": 12,
   "id": "de65d0fd-513f-49e6-b705-be8c3cc49e69",
   "metadata": {},
   "outputs": [
    {
     "name": "stdout",
     "output_type": "stream",
     "text": [
      "[2, 1, 5, 3, 4]\n"
     ]
    }
   ],
   "source": [
    "# 20. write a code to shuffle a given list randomly without using any built-in shuffle functions . \n",
    "\n",
    "import random\n",
    "\n",
    "def fisher_yates_shuffle(lst):\n",
    "    for i in range(len(lst) - 1, 0, -1):\n",
    "        j = random.randint(0, i)  # Random index from 0 to i\n",
    "        lst[i], lst[j] = lst[j], lst[i]  # Swap elements\n",
    "\n",
    "# Example usage\n",
    "my_list = [1, 2, 3, 4, 5]\n",
    "fisher_yates_shuffle(my_list)\n",
    "print(my_list)  \n"
   ]
  },
  {
   "cell_type": "code",
   "execution_count": 13,
   "id": "e054effd-de5a-4e60-afad-76a10f6fbfff",
   "metadata": {},
   "outputs": [
    {
     "name": "stdout",
     "output_type": "stream",
     "text": [
      "(4, 5)\n"
     ]
    }
   ],
   "source": [
    "# 21. write a code that takes two tuples as input and returns a new tuple containing elements that are common to both input tuples .\n",
    "\n",
    "def common_elements(tuple1, tuple2):\n",
    "    set1 = set(tuple1)\n",
    "    set2 = set(tuple2)\n",
    "    common_set = set1 & set2  # Find the intersection\n",
    "    return tuple(common_set)  # Convert the result back to a tuple\n",
    "\n",
    "# Example usage\n",
    "tuple1 = (1, 2, 3, 4, 5)\n",
    "tuple2 = (4, 5, 6, 7, 8)\n",
    "result = common_elements(tuple1, tuple2)\n",
    "print(result)  \n"
   ]
  },
  {
   "cell_type": "code",
   "execution_count": null,
   "id": "4ab1233d-dbf6-4d98-a7d2-3502815c74f3",
   "metadata": {},
   "outputs": [
    {
     "name": "stdout",
     "output_type": "stream",
     "text": [
      "Enter two sets of integers separated by commas.\n"
     ]
    }
   ],
   "source": [
    "# 22. create a code that prompts the user to enter two sets of integers seperated by commas. then, print the intersection of these two sets . \n",
    "\n",
    "def get_set_from_input(prompt):\n",
    "    user_input = input(prompt)\n",
    "    # Split the input by commas, strip whitespace, and convert each to an integer\n",
    "    return set(map(int, user_input.split(',')))\n",
    "\n",
    "def main():\n",
    "    print(\"Enter two sets of integers separated by commas.\")\n",
    "    set1 = get_set_from_input(\"Enter the first set: \")\n",
    "    set2 = get_set_from_input(\"Enter the second set: \")\n",
    "\n",
    "    intersection = set1 & set2  # Find the intersection of the two sets\n",
    "\n",
    "    print(f\"The intersection of the two sets is: {intersection}\")\n",
    "\n",
    "# Run the main function\n",
    "if __name__ == \"__main__\":\n",
    "    main()\n"
   ]
  },
  {
   "cell_type": "code",
   "execution_count": null,
   "id": "9db69a3b-f096-4dec-a253-3d44bcead70e",
   "metadata": {},
   "outputs": [],
   "source": [
    "# 23.  write a code to concatenate two tuples . The function should take two tuples as input and return a new tuple containing elements from\n",
    "#both input tuples \n",
    "\n",
    "\n",
    "def concatenate_tuples(tuple1, tuple2):\n",
    "    return tuple1 + tuple2\n",
    "\n",
    "# Example usage\n",
    "tuple1 = (1, 2, 3)\n",
    "tuple2 = (4, 5, 6)\n",
    "result = concatenate_tuples(tuple1, tuple2)\n",
    "print(result) \n"
   ]
  },
  {
   "cell_type": "code",
   "execution_count": null,
   "id": "b14d6651-1084-4568-b58d-9fbb68c25974",
   "metadata": {},
   "outputs": [],
   "source": [
    "# 24. Develop a code that prompts the user to input two sets of strings. Then, print  the elements that are present in the first set \n",
    "#but not in the second set.\n",
    "\n",
    "# Function to convert a comma-separated string to a set of strings\n",
    "def string_to_set(input_string):\n",
    "    return set(input_string.split(','))\n",
    "\n",
    "# Prompt the user to input the first set of strings\n",
    "input_set1 = input(\"Enter the first set of strings, separated by commas: \")\n",
    "# Convert the input string to a set\n",
    "set1 = string_to_set(input_set1)\n",
    "\n",
    "# Prompt the user to input the second set of strings\n",
    "input_set2 = input(\"Enter the second set of strings, separated by commas: \")\n",
    "# Convert the input string to a set\n",
    "set2 = string_to_set(input_set2)\n",
    "\n",
    "# Calculate the difference between the two sets\n",
    "difference = set1 - set2\n",
    "\n",
    "# Print the elements that are in the first set but not in the second set\n",
    "print(\"Elements in the first set but not in the second set:\")\n",
    "print(difference)\n"
   ]
  },
  {
   "cell_type": "code",
   "execution_count": 1,
   "id": "068e7c1b-99b2-4a24-8470-d435198c0c16",
   "metadata": {},
   "outputs": [
    {
     "name": "stdout",
     "output_type": "stream",
     "text": [
      "(30, 40, 50)\n"
     ]
    }
   ],
   "source": [
    "# 25. Create a code that takes a tuple and two integers as input. The function should return a new tuple containing elements from the \n",
    "#original tuple within the specified range of indices. \n",
    "\n",
    "def slice_tuple(original_tuple, start_index, end_index):\n",
    "    \"\"\"\n",
    "    Returns a new tuple containing elements from the original tuple within the specified range of indices.\n",
    "    \n",
    "    Parameters:\n",
    "    original_tuple (tuple): The tuple to slice.\n",
    "    start_index (int): The starting index of the slice (inclusive).\n",
    "    end_index (int): The ending index of the slice (exclusive).\n",
    "    \n",
    "    Returns:\n",
    "    tuple: A new tuple containing the sliced elements.\n",
    "    \"\"\"\n",
    "    # Ensure indices are within the valid range\n",
    "    if not (0 <= start_index <= len(original_tuple) and 0 <= end_index <= len(original_tuple)):\n",
    "        raise IndexError(\"Indices are out of range.\")\n",
    "    \n",
    "    # Return the sliced tuple\n",
    "    return original_tuple[start_index:end_index]\n",
    "\n",
    "# Example usage:\n",
    "example_tuple = (10, 20, 30, 40, 50, 60)\n",
    "start = 2\n",
    "end = 5\n",
    "result = slice_tuple(example_tuple, start, end)\n",
    "print(result)  \n"
   ]
  },
  {
   "cell_type": "code",
   "execution_count": null,
   "id": "4c7e6bee-1887-41ae-8e65-d2aabb0d36ee",
   "metadata": {},
   "outputs": [],
   "source": [
    "# 26. Write a code that prompts the user to input two sets of characters. Then , print the union of these two sets.\n",
    "\n",
    "def main():\n",
    "    # Prompt user to input two sets of characters\n",
    "    set1_input = input(\"Enter the first set of characters (e.g., 'abc'): \")\n",
    "    set2_input = input(\"Enter the second set of characters (e.g., 'def'): \")\n",
    "\n",
    "    # Convert input strings to sets of characters\n",
    "    set1 = set(set1_input)\n",
    "    set2 = set(set2_input)\n",
    "\n",
    "    # Compute the union of the two sets\n",
    "    union_set = set1.union(set2)\n",
    "\n",
    "    # Print the resulting union\n",
    "    print(\"The union of the two sets is:\", ''.join(sorted(union_set)))\n",
    "\n",
    "# Run the main function\n",
    "if __name__ == \"__main__\":\n",
    "    main()\n"
   ]
  },
  {
   "cell_type": "code",
   "execution_count": 1,
   "id": "cc48b0de-3f6f-47c8-adc4-271feb55bdab",
   "metadata": {},
   "outputs": [
    {
     "name": "stdout",
     "output_type": "stream",
     "text": [
      "Maximum value: 40\n",
      "Minimum value: 5\n"
     ]
    }
   ],
   "source": [
    "# 27. Develop a code that takes a tuple of integers as input. The function should return the maximum and \n",
    "#minimum values from the tuple using tuple unpacking.\n",
    "\n",
    "def find_max_min(values):\n",
    "    \"\"\"\n",
    "    Returns the maximum and minimum values from a tuple of integers using tuple unpacking.\n",
    "    \n",
    "    Parameters:\n",
    "    values (tuple): A tuple of integers.\n",
    "    \n",
    "    Returns:\n",
    "    tuple: A tuple containing the maximum and minimum values.\n",
    "    \"\"\"\n",
    "    # Ensure the input is a non-empty tuple\n",
    "    if not values:\n",
    "        raise ValueError(\"The input tuple must not be empty.\")\n",
    "\n",
    "    # Find maximum and minimum values\n",
    "    max_val = max(values)\n",
    "    min_val = min(values)\n",
    "    \n",
    "    # Return the results using tuple unpacking\n",
    "    return max_val, min_val\n",
    "\n",
    "# Example usage:\n",
    "example_tuple = (10, 20, 5, 40, 15)\n",
    "max_val, min_val = find_max_min(example_tuple)\n",
    "print(f\"Maximum value: {max_val}\")\n",
    "print(f\"Minimum value: {min_val}\")\n"
   ]
  },
  {
   "cell_type": "code",
   "execution_count": 2,
   "id": "91638973-bdd5-4b24-ac8c-ff6590b63451",
   "metadata": {},
   "outputs": [
    {
     "name": "stdout",
     "output_type": "stream",
     "text": [
      "Set 1: {1, 2, 3, 4, 5}\n",
      "Set 2: {4, 5, 6, 7, 8}\n",
      "Union of Set 1 and Set 2: {1, 2, 3, 4, 5, 6, 7, 8}\n",
      "Intersection of Set 1 and Set 2: {4, 5}\n",
      "Difference (Set 1 - Set 2): {1, 2, 3}\n",
      "Difference (Set 2 - Set 1): {8, 6, 7}\n"
     ]
    }
   ],
   "source": [
    "# 28. Write a code that defines two sets of integers. Then, print the union intersection, and difference of these two sets.\n",
    "\n",
    "def main():\n",
    "    # Define two sets of integers\n",
    "    set1 = {1, 2, 3, 4, 5}\n",
    "    set2 = {4, 5, 6, 7, 8}\n",
    "\n",
    "    # Compute the union, intersection, and difference\n",
    "    union_set = set1.union(set2)\n",
    "    intersection_set = set1.intersection(set2)\n",
    "    difference_set1_set2 = set1.difference(set2)\n",
    "    difference_set2_set1 = set2.difference(set1)\n",
    "\n",
    "    # Print the results\n",
    "    print(\"Set 1:\", set1)\n",
    "    print(\"Set 2:\", set2)\n",
    "    print(\"Union of Set 1 and Set 2:\", union_set)\n",
    "    print(\"Intersection of Set 1 and Set 2:\", intersection_set)\n",
    "    print(\"Difference (Set 1 - Set 2):\", difference_set1_set2)\n",
    "    print(\"Difference (Set 2 - Set 1):\", difference_set2_set1)\n",
    "\n",
    "# Run the main function\n",
    "if __name__ == \"__main__\":\n",
    "    main()\n"
   ]
  },
  {
   "cell_type": "code",
   "execution_count": 3,
   "id": "5db40727-f76b-465c-8cbd-f785ec012017",
   "metadata": {},
   "outputs": [
    {
     "name": "stdout",
     "output_type": "stream",
     "text": [
      "The element 2 occurs 3 times in the tuple.\n"
     ]
    }
   ],
   "source": [
    "# 29. write a code that takes a tuple and an element as input. The function should return the count of occurrences of \n",
    "#the given element in the tuple.\n",
    "\n",
    "def count_element_in_tuple(input_tuple, element):\n",
    "    \"\"\"\n",
    "    Returns the count of occurrences of the given element in the tuple.\n",
    "    \n",
    "    Parameters:\n",
    "    input_tuple (tuple): The tuple to search within.\n",
    "    element: The element to count in the tuple.\n",
    "    \n",
    "    Returns:\n",
    "    int: The number of times the element appears in the tuple.\n",
    "    \"\"\"\n",
    "    # Count occurrences of the element in the tuple\n",
    "    count = input_tuple.count(element)\n",
    "    \n",
    "    return count\n",
    "\n",
    "# Example usage:\n",
    "example_tuple = (1, 2, 3, 4, 2, 2, 5, 6)\n",
    "element_to_count = 2\n",
    "count = count_element_in_tuple(example_tuple, element_to_count)\n",
    "print(f\"The element {element_to_count} occurs {count} times in the tuple.\")\n"
   ]
  },
  {
   "cell_type": "code",
   "execution_count": null,
   "id": "85af9976-4c36-4d20-ad2e-afd41ea22b41",
   "metadata": {},
   "outputs": [],
   "source": [
    "# 30. Develop a code that prompts the user to input two sets of strings. Then, print the symmetric difference of these two sets.\n",
    "\n",
    "def main():\n",
    "    # Prompt the user to input two sets of strings\n",
    "    set1_input = input(\"Enter the first set of strings, separated by commas (e.g., 'apple,banana,cherry'): \")\n",
    "    set2_input = input(\"Enter the second set of strings, separated by commas (e.g., 'banana,cherry,date'): \")\n",
    "\n",
    "    # Convert the input strings to sets of strings\n",
    "    set1 = set(set1_input.split(','))\n",
    "    set2 = set(set2_input.split(','))\n",
    "\n",
    "    # Compute the symmetric difference\n",
    "    symmetric_difference = set1.symmetric_difference(set2)\n",
    "\n",
    "    # Print the resulting symmetric difference\n",
    "    print(\"The symmetric difference of the two sets is:\", symmetric_difference)\n",
    "\n",
    "# Run the main function\n",
    "if __name__ == \"__main__\":\n",
    "    main()\n"
   ]
  },
  {
   "cell_type": "code",
   "execution_count": 1,
   "id": "a0a6083f-e3c0-4a45-9639-7a9c9806bb5f",
   "metadata": {},
   "outputs": [
    {
     "name": "stdout",
     "output_type": "stream",
     "text": [
      "{'apple': 2, 'banana': 3, 'orange': 1}\n"
     ]
    }
   ],
   "source": [
    "# 31. write a code that takes a list of words as input and returns a dictionary where the keys are unique words and the values \n",
    "# are the frequencies of these words in the input list.\n",
    "\n",
    "def count_word_frequencies(words_list):\n",
    "    \"\"\"\n",
    "    Returns a dictionary where the keys are unique words and the values are the frequencies of these words in the list.\n",
    "    \n",
    "    Parameters:\n",
    "    words_list (list): A list of words (strings).\n",
    "    \n",
    "    Returns:\n",
    "    dict: A dictionary with words as keys and their frequencies as values.\n",
    "    \"\"\"\n",
    "    # Initialize an empty dictionary to store word frequencies\n",
    "    frequency_dict = {}\n",
    "    \n",
    "    # Iterate over each word in the list\n",
    "    for word in words_list:\n",
    "        if word in frequency_dict:\n",
    "            # Increment the count for the word if it is already in the dictionary\n",
    "            frequency_dict[word] += 1\n",
    "        else:\n",
    "            # Add the word to the dictionary with a count of 1 if it's not already there\n",
    "            frequency_dict[word] = 1\n",
    "    \n",
    "    return frequency_dict\n",
    "\n",
    "# Example usage:\n",
    "input_list = ['apple', 'banana', 'apple', 'orange', 'banana', 'banana']\n",
    "word_frequencies = count_word_frequencies(input_list)\n",
    "print(word_frequencies)\n"
   ]
  },
  {
   "cell_type": "code",
   "execution_count": 2,
   "id": "7a1532cb-4073-47da-a283-2d1b839411de",
   "metadata": {},
   "outputs": [
    {
     "name": "stdout",
     "output_type": "stream",
     "text": [
      "{'a': 1, 'b': 5, 'c': 7, 'd': 5}\n"
     ]
    }
   ],
   "source": [
    "# 32. write a code that takes two dictionaries as input and merges them into a single dictionary. if there are common keys,\n",
    "# the values should be added together.\n",
    "\n",
    "def merge_dicts(dict1, dict2):\n",
    "    \"\"\"\n",
    "    Merges two dictionaries, summing the values for common keys.\n",
    "    \n",
    "    Parameters:\n",
    "    dict1 (dict): The first dictionary.\n",
    "    dict2 (dict): The second dictionary.\n",
    "    \n",
    "    Returns:\n",
    "    dict: A new dictionary with merged values.\n",
    "    \"\"\"\n",
    "    # Create a new dictionary to store the merged results\n",
    "    merged_dict = dict1.copy()  # Start with a copy of the first dictionary\n",
    "    \n",
    "    # Iterate through the second dictionary\n",
    "    for key, value in dict2.items():\n",
    "        if key in merged_dict:\n",
    "            # If the key is in both dictionaries, sum the values\n",
    "            merged_dict[key] += value\n",
    "        else:\n",
    "            # If the key is only in the second dictionary, add it to the merged dictionary\n",
    "            merged_dict[key] = value\n",
    "            \n",
    "    return merged_dict\n",
    "\n",
    "# Example usage:\n",
    "dict1 = {'a': 1, 'b': 2, 'c': 3}\n",
    "dict2 = {'b': 3, 'c': 4, 'd': 5}\n",
    "\n",
    "merged_result = merge_dicts(dict1, dict2)\n",
    "print(merged_result)\n"
   ]
  },
  {
   "cell_type": "code",
   "execution_count": 3,
   "id": "1cdc9a53-1875-4a3e-b6a2-87c192cfdec0",
   "metadata": {},
   "outputs": [
    {
     "name": "stdout",
     "output_type": "stream",
     "text": [
      "42\n",
      "None\n"
     ]
    }
   ],
   "source": [
    "# 33. Write a code to access a values in a nested dictionary. The function should take the dictionary and a list of keys as input,\n",
    "# and return the corresponding values. If any of the keys do not exist in the dictionary,the function should return none.\n",
    "\n",
    "def access_nested_dict(nested_dict, key_list):\n",
    "    \"\"\"\n",
    "    Accesses a value in a nested dictionary given a list of keys.\n",
    "    \n",
    "    Parameters:\n",
    "    nested_dict (dict): The nested dictionary to access.\n",
    "    key_list (list): A list of keys to traverse the dictionary.\n",
    "    \n",
    "    Returns:\n",
    "    The value corresponding to the keys if all keys exist; otherwise, None.\n",
    "    \"\"\"\n",
    "    current_level = nested_dict\n",
    "    \n",
    "    for key in key_list:\n",
    "        if isinstance(current_level, dict) and key in current_level:\n",
    "            current_level = current_level[key]\n",
    "        else:\n",
    "            return None  # Return None if any key is not found or if the current level is not a dictionary\n",
    "    \n",
    "    return current_level\n",
    "\n",
    "# Example usage:\n",
    "nested_dict = {\n",
    "    'a': {\n",
    "        'b': {\n",
    "            'c': 42\n",
    "        }\n",
    "    }\n",
    "}\n",
    "keys_to_access = ['a', 'b', 'c']\n",
    "result = access_nested_dict(nested_dict, keys_to_access)\n",
    "print(result)  # Output: 42\n",
    "\n",
    "# Example with missing key:\n",
    "keys_to_access_missing = ['a', 'b', 'x']\n",
    "result_missing = access_nested_dict(nested_dict, keys_to_access_missing)\n",
    "print(result_missing)  \n"
   ]
  },
  {
   "cell_type": "code",
   "execution_count": 4,
   "id": "0b81b9ee-87b1-43ec-b17c-9345d3f31895",
   "metadata": {},
   "outputs": [
    {
     "name": "stdout",
     "output_type": "stream",
     "text": [
      "Ascending order: {'date': 1, 'banana': 2, 'apple': 4, 'cherry': 5}\n",
      "Descending order: {'cherry': 5, 'apple': 4, 'banana': 2, 'date': 1}\n"
     ]
    }
   ],
   "source": [
    "# 34. Write a code that takes a dictionary as input and returns a sorted version of it based on the values. You can \n",
    "# choose whether to sort in ascending or descending order.\n",
    "\n",
    "def sort_dict_by_value(input_dict, ascending=True):\n",
    "    \"\"\"\n",
    "    Returns a dictionary sorted by its values.\n",
    "    \n",
    "    Parameters:\n",
    "    input_dict (dict): The dictionary to be sorted.\n",
    "    ascending (bool): If True, sort in ascending order; if False, sort in descending order.\n",
    "    \n",
    "    Returns:\n",
    "    dict: A new dictionary sorted by values.\n",
    "    \"\"\"\n",
    "    # Sort the dictionary items based on values\n",
    "    sorted_items = sorted(input_dict.items(), key=lambda item: item[1], reverse=not ascending)\n",
    "    \n",
    "    # Convert the sorted items back to a dictionary\n",
    "    sorted_dict = dict(sorted_items)\n",
    "    \n",
    "    return sorted_dict\n",
    "\n",
    "# Example usage:\n",
    "input_dict = {'apple': 4, 'banana': 2, 'cherry': 5, 'date': 1}\n",
    "\n",
    "# Sort in ascending order\n",
    "sorted_dict_asc = sort_dict_by_value(input_dict, ascending=True)\n",
    "print(\"Ascending order:\", sorted_dict_asc)  \n",
    "\n",
    "# Sort in descending order\n",
    "sorted_dict_desc = sort_dict_by_value(input_dict, ascending=False)\n",
    "print(\"Descending order:\", sorted_dict_desc)  \n"
   ]
  },
  {
   "cell_type": "code",
   "execution_count": 5,
   "id": "17bf1214-a040-432c-9064-8e8733e3753b",
   "metadata": {},
   "outputs": [
    {
     "name": "stdout",
     "output_type": "stream",
     "text": [
      "{1: ['a', 'c'], 2: ['b'], 3: ['d']}\n"
     ]
    }
   ],
   "source": [
    "# 35. Write a code that inverts a dictionary, swapping keys and values. Ensure that the inverted dictionary correctly handles\n",
    "# cases where multiple keys have the same value by storing the keys as a list in the inverted dictionary.\n",
    "\n",
    "def invert_dict(original_dict):\n",
    "    \"\"\"\n",
    "    Inverts the dictionary, swapping keys and values.\n",
    "    If multiple keys have the same value, the keys are stored as a list.\n",
    "    \n",
    "    Parameters:\n",
    "    original_dict (dict): The dictionary to be inverted.\n",
    "    \n",
    "    Returns:\n",
    "    dict: The inverted dictionary with values as keys and lists of original keys as values.\n",
    "    \"\"\"\n",
    "    inverted_dict = {}\n",
    "    \n",
    "    for key, value in original_dict.items():\n",
    "        if value in inverted_dict:\n",
    "            # If the value is already a key in the inverted dictionary, append the current key to the list\n",
    "            inverted_dict[value].append(key)\n",
    "        else:\n",
    "            # If the value is not in the inverted dictionary, create a new list with the current key\n",
    "            inverted_dict[value] = [key]\n",
    "    \n",
    "    return inverted_dict\n",
    "\n",
    "# Example usage:\n",
    "original_dict = {'a': 1, 'b': 2, 'c': 1, 'd': 3}\n",
    "\n",
    "inverted_dict = invert_dict(original_dict)\n",
    "print(inverted_dict)\n"
   ]
  },
  {
   "cell_type": "code",
   "execution_count": null,
   "id": "27b6ef02-675a-4951-98b3-7653b729101d",
   "metadata": {},
   "outputs": [],
   "source": []
  }
 ],
 "metadata": {
  "kernelspec": {
   "display_name": "Python 3 (ipykernel)",
   "language": "python",
   "name": "python3"
  },
  "language_info": {
   "codemirror_mode": {
    "name": "ipython",
    "version": 3
   },
   "file_extension": ".py",
   "mimetype": "text/x-python",
   "name": "python",
   "nbconvert_exporter": "python",
   "pygments_lexer": "ipython3",
   "version": "3.12.4"
  }
 },
 "nbformat": 4,
 "nbformat_minor": 5
}
